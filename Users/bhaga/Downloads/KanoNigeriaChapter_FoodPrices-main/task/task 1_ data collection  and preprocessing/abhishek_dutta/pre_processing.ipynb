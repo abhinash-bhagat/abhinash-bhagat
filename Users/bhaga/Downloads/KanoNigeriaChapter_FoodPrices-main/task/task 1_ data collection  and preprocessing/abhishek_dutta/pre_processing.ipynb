{
 "cells": [
  {
   "cell_type": "markdown",
   "metadata": {},
   "source": [
    "## Pre-processing raw data of Nigeria food prices\n",
    "\n",
    "Omdena-Kano Central, Nigeria Chapter (https://omdena.com/local-chapters/kano-nigeria-chapter/)\n",
    "\n",
    "- <b>Project</b>: https://omdena.com/chapter-challenges/analysis-and-prediction-of-food-prices-in-nigeria-using-machine-learning-and-python/\n",
    "\n",
    "- <b>Author</b>: Abhishek Dutta\n",
    "\n",
    "<i> Credits to Anupama Mathpal for the raw dataset </i>"
   ]
  },
  {
   "cell_type": "code",
   "execution_count": 1,
   "metadata": {},
   "outputs": [
    {
     "name": "stdout",
     "output_type": "stream",
     "text": [
      "Note: you may need to restart the kernel to use updated packages.\n"
     ]
    }
   ],
   "source": [
    "# Run the below command if you're running the code for the first time and don't have the polars library installed.\n",
    "%pip install -q polars"
   ]
  },
  {
   "cell_type": "code",
   "execution_count": 2,
   "metadata": {},
   "outputs": [],
   "source": [
    "import sys\n",
    "import polars as pl\n",
    "from datetime import datetime"
   ]
  },
  {
   "cell_type": "code",
   "execution_count": 3,
   "metadata": {},
   "outputs": [
    {
     "name": "stdout",
     "output_type": "stream",
     "text": [
      "Python version used: 3.9.17 (main, Jun 12 2023, 23:26:41) \n",
      "[Clang 14.0.3 (clang-1403.0.22.14.1)]\n",
      "Polars version used: 0.19.8\n"
     ]
    }
   ],
   "source": [
    "print(f'Python version used: {sys.version}')\n",
    "print(f'Polars version used: {pl.__version__}')"
   ]
  },
  {
   "cell_type": "markdown",
   "metadata": {},
   "source": [
    "### Reading the raw data file into a Polars dataframe"
   ]
  },
  {
   "cell_type": "code",
   "execution_count": 4,
   "metadata": {},
   "outputs": [
    {
     "name": "stdout",
     "output_type": "stream",
     "text": [
      "Time taken for reading CSV file: 0.055164 seconds\n"
     ]
    }
   ],
   "source": [
    "start = datetime.now()\n",
    "data = pl.read_csv('wfp_food_prices_nga.csv', has_header=True)\n",
    "print(f'Time taken for reading CSV file: {(datetime.now() - start).total_seconds()} seconds')\n",
    "# Polars is much more efficient than Pandas for I/O(input/output) operations like reading CSV files and others...\n",
    "# https://medium.com/cuenex/pandas-2-0-vs-polars-the-ultimate-battle-a378eb75d6d1"
   ]
  },
  {
   "cell_type": "code",
   "execution_count": 5,
   "metadata": {},
   "outputs": [
    {
     "name": "stdout",
     "output_type": "stream",
     "text": [
      "Shape of the dataset is: 80982 rows and 14 columns\n"
     ]
    }
   ],
   "source": [
    "print(f'Shape of the dataset is: {data.shape[0]} rows and {data.shape[1]} columns')"
   ]
  },
  {
   "cell_type": "code",
   "execution_count": 6,
   "metadata": {},
   "outputs": [
    {
     "data": {
      "text/html": [
       "<div><style>\n",
       ".dataframe > thead > tr > th,\n",
       ".dataframe > tbody > tr > td {\n",
       "  text-align: right;\n",
       "  white-space: pre-wrap;\n",
       "}\n",
       "</style>\n",
       "<small>shape: (5, 14)</small><table border=\"1\" class=\"dataframe\"><thead><tr><th>date</th><th>admin1</th><th>admin2</th><th>market</th><th>latitude</th><th>longitude</th><th>category</th><th>commodity</th><th>unit</th><th>priceflag</th><th>pricetype</th><th>currency</th><th>price</th><th>usdprice</th></tr><tr><td>str</td><td>str</td><td>str</td><td>str</td><td>str</td><td>str</td><td>str</td><td>str</td><td>str</td><td>str</td><td>str</td><td>str</td><td>str</td><td>str</td></tr></thead><tbody><tr><td>&quot;#date&quot;</td><td>&quot;#adm1+name&quot;</td><td>&quot;#adm2+name&quot;</td><td>&quot;#loc+market+na…</td><td>&quot;#geo+lat&quot;</td><td>&quot;#geo+lon&quot;</td><td>&quot;#item+type&quot;</td><td>&quot;#item+name&quot;</td><td>&quot;#item+unit&quot;</td><td>&quot;#item+price+fl…</td><td>&quot;#item+price+ty…</td><td>&quot;#currency&quot;</td><td>&quot;#value&quot;</td><td>&quot;#value+usd&quot;</td></tr><tr><td>&quot;2002-01-15&quot;</td><td>&quot;Katsina&quot;</td><td>&quot;Jibia&quot;</td><td>&quot;Jibia (CBM)&quot;</td><td>&quot;13.08&quot;</td><td>&quot;7.24&quot;</td><td>&quot;cereals and tu…</td><td>&quot;Maize&quot;</td><td>&quot;KG&quot;</td><td>&quot;actual&quot;</td><td>&quot;Wholesale&quot;</td><td>&quot;NGN&quot;</td><td>&quot;175.92&quot;</td><td>&quot;1.5525&quot;</td></tr><tr><td>&quot;2002-01-15&quot;</td><td>&quot;Katsina&quot;</td><td>&quot;Jibia&quot;</td><td>&quot;Jibia (CBM)&quot;</td><td>&quot;13.08&quot;</td><td>&quot;7.24&quot;</td><td>&quot;cereals and tu…</td><td>&quot;Millet&quot;</td><td>&quot;KG&quot;</td><td>&quot;actual&quot;</td><td>&quot;Wholesale&quot;</td><td>&quot;NGN&quot;</td><td>&quot;150.18&quot;</td><td>&quot;1.3254&quot;</td></tr><tr><td>&quot;2002-01-15&quot;</td><td>&quot;Katsina&quot;</td><td>&quot;Jibia&quot;</td><td>&quot;Jibia (CBM)&quot;</td><td>&quot;13.08&quot;</td><td>&quot;7.24&quot;</td><td>&quot;cereals and tu…</td><td>&quot;Rice (imported…</td><td>&quot;KG&quot;</td><td>&quot;actual&quot;</td><td>&quot;Wholesale&quot;</td><td>&quot;NGN&quot;</td><td>&quot;358.7&quot;</td><td>&quot;3.1656&quot;</td></tr><tr><td>&quot;2002-01-15&quot;</td><td>&quot;Katsina&quot;</td><td>&quot;Jibia&quot;</td><td>&quot;Jibia (CBM)&quot;</td><td>&quot;13.08&quot;</td><td>&quot;7.24&quot;</td><td>&quot;cereals and tu…</td><td>&quot;Sorghum&quot;</td><td>&quot;KG&quot;</td><td>&quot;actual&quot;</td><td>&quot;Wholesale&quot;</td><td>&quot;NGN&quot;</td><td>&quot;155.61&quot;</td><td>&quot;1.3733&quot;</td></tr></tbody></table></div>"
      ],
      "text/plain": [
       "shape: (5, 14)\n",
       "┌────────────┬────────────┬───────────┬───────────┬───┬───────────┬───────────┬────────┬───────────┐\n",
       "│ date       ┆ admin1     ┆ admin2    ┆ market    ┆ … ┆ pricetype ┆ currency  ┆ price  ┆ usdprice  │\n",
       "│ ---        ┆ ---        ┆ ---       ┆ ---       ┆   ┆ ---       ┆ ---       ┆ ---    ┆ ---       │\n",
       "│ str        ┆ str        ┆ str       ┆ str       ┆   ┆ str       ┆ str       ┆ str    ┆ str       │\n",
       "╞════════════╪════════════╪═══════════╪═══════════╪═══╪═══════════╪═══════════╪════════╪═══════════╡\n",
       "│ #date      ┆ #adm1+name ┆ #adm2+nam ┆ #loc+mark ┆ … ┆ #item+pri ┆ #currency ┆ #value ┆ #value+us │\n",
       "│            ┆            ┆ e         ┆ et+name   ┆   ┆ ce+type   ┆           ┆        ┆ d         │\n",
       "│ 2002-01-15 ┆ Katsina    ┆ Jibia     ┆ Jibia     ┆ … ┆ Wholesale ┆ NGN       ┆ 175.92 ┆ 1.5525    │\n",
       "│            ┆            ┆           ┆ (CBM)     ┆   ┆           ┆           ┆        ┆           │\n",
       "│ 2002-01-15 ┆ Katsina    ┆ Jibia     ┆ Jibia     ┆ … ┆ Wholesale ┆ NGN       ┆ 150.18 ┆ 1.3254    │\n",
       "│            ┆            ┆           ┆ (CBM)     ┆   ┆           ┆           ┆        ┆           │\n",
       "│ 2002-01-15 ┆ Katsina    ┆ Jibia     ┆ Jibia     ┆ … ┆ Wholesale ┆ NGN       ┆ 358.7  ┆ 3.1656    │\n",
       "│            ┆            ┆           ┆ (CBM)     ┆   ┆           ┆           ┆        ┆           │\n",
       "│ 2002-01-15 ┆ Katsina    ┆ Jibia     ┆ Jibia     ┆ … ┆ Wholesale ┆ NGN       ┆ 155.61 ┆ 1.3733    │\n",
       "│            ┆            ┆           ┆ (CBM)     ┆   ┆           ┆           ┆        ┆           │\n",
       "└────────────┴────────────┴───────────┴───────────┴───┴───────────┴───────────┴────────┴───────────┘"
      ]
     },
     "execution_count": 6,
     "metadata": {},
     "output_type": "execute_result"
    }
   ],
   "source": [
    "data.head(5)"
   ]
  },
  {
   "cell_type": "markdown",
   "metadata": {},
   "source": [
    "We see that the first record is actually sort of metadata about the columns themselves, so we'll skip that particular record and keep the data following it."
   ]
  },
  {
   "cell_type": "code",
   "execution_count": 7,
   "metadata": {},
   "outputs": [],
   "source": [
    "data = data[1:,:]\n",
    "# Polars has no concept of an index: https://towardsdatascience.com/understand-polars-lack-of-indexes-526ea75e413\n",
    "# The above command means that select all rows from row number 1 till the end, and the ':' after the comma means select all columns"
   ]
  },
  {
   "cell_type": "code",
   "execution_count": 8,
   "metadata": {},
   "outputs": [
    {
     "name": "stdout",
     "output_type": "stream",
     "text": [
      "Updated shape of the dataset is: 80981 rows and 14 columns\n"
     ]
    }
   ],
   "source": [
    "print(f'Updated shape of the dataset is: {data.shape[0]} rows and {data.shape[1]} columns')"
   ]
  },
  {
   "cell_type": "code",
   "execution_count": 9,
   "metadata": {},
   "outputs": [
    {
     "name": "stdout",
     "output_type": "stream",
     "text": [
      "Estimated memory usage of the dataframe: 18.348 mb\n"
     ]
    }
   ],
   "source": [
    "print(f'Estimated memory usage of the dataframe: {round(data.estimated_size(\"mb\"),3)} mb')"
   ]
  },
  {
   "cell_type": "markdown",
   "metadata": {},
   "source": [
    "### Fixing data types of individual columns\n",
    "\n",
    "1. 'date' - Correct data type should be date\n",
    "2. 'admin1', 'admin2' and 'market' - Correct data type should be categorical\n",
    "3. 'latitude' and 'latitude' - Correct data type should be float\n",
    "4. 'category', 'commodity', 'unit', 'priceflag', 'pricetype' and 'currency' - Correct data type should be categorical\n",
    "5. 'price' and 'usdprice' - Correct data type should be float"
   ]
  },
  {
   "cell_type": "code",
   "execution_count": 10,
   "metadata": {},
   "outputs": [],
   "source": [
    "data = data.select(\n",
    "    pl.col('date').str.to_date(\"%Y-%m-%d\"),\n",
    "    pl.col('admin1').cast(pl.Categorical),\n",
    "    pl.col('admin2').cast(pl.Categorical),\n",
    "    pl.col('market').cast(pl.Categorical),\n",
    "    pl.col('latitude').cast(pl.Float32),\n",
    "    pl.col('longitude').cast(pl.Float32),\n",
    "    pl.col('category').cast(pl.Categorical),\n",
    "    pl.col('commodity').cast(pl.Categorical),\n",
    "    pl.col('unit').cast(pl.Categorical),\n",
    "    pl.col('priceflag').cast(pl.Categorical),\n",
    "    pl.col('pricetype').cast(pl.Categorical),\n",
    "    pl.col('currency').cast(pl.Categorical),\n",
    "    pl.col('price').cast(pl.Float32),\n",
    "    pl.col('usdprice').cast(pl.Float32)\n",
    ")"
   ]
  },
  {
   "cell_type": "code",
   "execution_count": 11,
   "metadata": {},
   "outputs": [
    {
     "name": "stdout",
     "output_type": "stream",
     "text": [
      "Estimated memory usage of the dataframe after fixing data types of columns: 4.328 mb\n"
     ]
    }
   ],
   "source": [
    "print(f'Estimated memory usage of the dataframe after fixing data types of columns: {round(data.estimated_size(\"mb\"),3)} mb')"
   ]
  },
  {
   "cell_type": "markdown",
   "metadata": {},
   "source": [
    "### Check for duplicated records"
   ]
  },
  {
   "cell_type": "code",
   "execution_count": 12,
   "metadata": {},
   "outputs": [
    {
     "data": {
      "text/html": [
       "<div><style>\n",
       ".dataframe > thead > tr > th,\n",
       ".dataframe > tbody > tr > td {\n",
       "  text-align: right;\n",
       "  white-space: pre-wrap;\n",
       "}\n",
       "</style>\n",
       "<small>shape: (0, 14)</small><table border=\"1\" class=\"dataframe\"><thead><tr><th>date</th><th>admin1</th><th>admin2</th><th>market</th><th>latitude</th><th>longitude</th><th>category</th><th>commodity</th><th>unit</th><th>priceflag</th><th>pricetype</th><th>currency</th><th>price</th><th>usdprice</th></tr><tr><td>date</td><td>cat</td><td>cat</td><td>cat</td><td>f32</td><td>f32</td><td>cat</td><td>cat</td><td>cat</td><td>cat</td><td>cat</td><td>cat</td><td>f32</td><td>f32</td></tr></thead><tbody></tbody></table></div>"
      ],
      "text/plain": [
       "shape: (0, 14)\n",
       "┌──────┬────────┬────────┬────────┬───┬───────────┬──────────┬───────┬──────────┐\n",
       "│ date ┆ admin1 ┆ admin2 ┆ market ┆ … ┆ pricetype ┆ currency ┆ price ┆ usdprice │\n",
       "│ ---  ┆ ---    ┆ ---    ┆ ---    ┆   ┆ ---       ┆ ---      ┆ ---   ┆ ---      │\n",
       "│ date ┆ cat    ┆ cat    ┆ cat    ┆   ┆ cat       ┆ cat      ┆ f32   ┆ f32      │\n",
       "╞══════╪════════╪════════╪════════╪═══╪═══════════╪══════════╪═══════╪══════════╡\n",
       "└──────┴────────┴────────┴────────┴───┴───────────┴──────────┴───────┴──────────┘"
      ]
     },
     "execution_count": 12,
     "metadata": {},
     "output_type": "execute_result"
    }
   ],
   "source": [
    "data.filter(data.is_duplicated())"
   ]
  },
  {
   "cell_type": "markdown",
   "metadata": {},
   "source": [
    "We see from the above that there are no duplicated records."
   ]
  },
  {
   "cell_type": "markdown",
   "metadata": {},
   "source": [
    "### Check for null values"
   ]
  },
  {
   "cell_type": "code",
   "execution_count": 13,
   "metadata": {},
   "outputs": [
    {
     "data": {
      "text/html": [
       "<div><style>\n",
       ".dataframe > thead > tr > th,\n",
       ".dataframe > tbody > tr > td {\n",
       "  text-align: right;\n",
       "  white-space: pre-wrap;\n",
       "}\n",
       "</style>\n",
       "<small>shape: (1, 14)</small><table border=\"1\" class=\"dataframe\"><thead><tr><th>date</th><th>admin1</th><th>admin2</th><th>market</th><th>latitude</th><th>longitude</th><th>category</th><th>commodity</th><th>unit</th><th>priceflag</th><th>pricetype</th><th>currency</th><th>price</th><th>usdprice</th></tr><tr><td>u32</td><td>u32</td><td>u32</td><td>u32</td><td>u32</td><td>u32</td><td>u32</td><td>u32</td><td>u32</td><td>u32</td><td>u32</td><td>u32</td><td>u32</td><td>u32</td></tr></thead><tbody><tr><td>0</td><td>0</td><td>0</td><td>0</td><td>0</td><td>0</td><td>0</td><td>0</td><td>0</td><td>0</td><td>0</td><td>0</td><td>0</td><td>0</td></tr></tbody></table></div>"
      ],
      "text/plain": [
       "shape: (1, 14)\n",
       "┌──────┬────────┬────────┬────────┬───┬───────────┬──────────┬───────┬──────────┐\n",
       "│ date ┆ admin1 ┆ admin2 ┆ market ┆ … ┆ pricetype ┆ currency ┆ price ┆ usdprice │\n",
       "│ ---  ┆ ---    ┆ ---    ┆ ---    ┆   ┆ ---       ┆ ---      ┆ ---   ┆ ---      │\n",
       "│ u32  ┆ u32    ┆ u32    ┆ u32    ┆   ┆ u32       ┆ u32      ┆ u32   ┆ u32      │\n",
       "╞══════╪════════╪════════╪════════╪═══╪═══════════╪══════════╪═══════╪══════════╡\n",
       "│ 0    ┆ 0      ┆ 0      ┆ 0      ┆ … ┆ 0         ┆ 0        ┆ 0     ┆ 0        │\n",
       "└──────┴────────┴────────┴────────┴───┴───────────┴──────────┴───────┴──────────┘"
      ]
     },
     "execution_count": 13,
     "metadata": {},
     "output_type": "execute_result"
    }
   ],
   "source": [
    "data.null_count()"
   ]
  },
  {
   "cell_type": "markdown",
   "metadata": {},
   "source": [
    "We see from the above that are no null/missing values in any of the columns in the dataset"
   ]
  },
  {
   "cell_type": "markdown",
   "metadata": {},
   "source": [
    "### Removing records where priceflag is 'forecast' or the price values is 0\n",
    "\n",
    "These sort of records may not be useful for machine learning."
   ]
  },
  {
   "cell_type": "code",
   "execution_count": 14,
   "metadata": {},
   "outputs": [
    {
     "name": "stdout",
     "output_type": "stream",
     "text": [
      "shape: (4,)\n",
      "Series: 'priceflag' [cat]\n",
      "[\n",
      "\t\"actual\"\n",
      "\t\"actual,aggregate\"\n",
      "\t\"aggregate\"\n",
      "\t\"forecast\"\n",
      "]\n"
     ]
    }
   ],
   "source": [
    "print(data['priceflag'].unique())"
   ]
  },
  {
   "cell_type": "code",
   "execution_count": 15,
   "metadata": {},
   "outputs": [],
   "source": [
    "data = data.filter(\n",
    "    ~((data['priceflag']=='forecast') | (data['price']==0))\n",
    "    )"
   ]
  },
  {
   "cell_type": "markdown",
   "metadata": {},
   "source": [
    "### Drop column currency and rename price column to ngnprice\n",
    "\n",
    "Currency column seems unnecessary. The price column can be renamed to ngnprice to denote the currency being considered."
   ]
  },
  {
   "cell_type": "code",
   "execution_count": 16,
   "metadata": {},
   "outputs": [],
   "source": [
    "data = data.drop('currency')"
   ]
  },
  {
   "cell_type": "code",
   "execution_count": 17,
   "metadata": {},
   "outputs": [],
   "source": [
    "data = data.rename({'price':'ngnprice'})"
   ]
  },
  {
   "cell_type": "code",
   "execution_count": 18,
   "metadata": {},
   "outputs": [
    {
     "data": {
      "text/html": [
       "<div><style>\n",
       ".dataframe > thead > tr > th,\n",
       ".dataframe > tbody > tr > td {\n",
       "  text-align: right;\n",
       "  white-space: pre-wrap;\n",
       "}\n",
       "</style>\n",
       "<small>shape: (5, 13)</small><table border=\"1\" class=\"dataframe\"><thead><tr><th>date</th><th>admin1</th><th>admin2</th><th>market</th><th>latitude</th><th>longitude</th><th>category</th><th>commodity</th><th>unit</th><th>priceflag</th><th>pricetype</th><th>ngnprice</th><th>usdprice</th></tr><tr><td>date</td><td>cat</td><td>cat</td><td>cat</td><td>f32</td><td>f32</td><td>cat</td><td>cat</td><td>cat</td><td>cat</td><td>cat</td><td>f32</td><td>f32</td></tr></thead><tbody><tr><td>2002-01-15</td><td>&quot;Katsina&quot;</td><td>&quot;Jibia&quot;</td><td>&quot;Jibia (CBM)&quot;</td><td>13.08</td><td>7.24</td><td>&quot;cereals and tu…</td><td>&quot;Maize&quot;</td><td>&quot;KG&quot;</td><td>&quot;actual&quot;</td><td>&quot;Wholesale&quot;</td><td>175.919998</td><td>1.5525</td></tr><tr><td>2002-01-15</td><td>&quot;Katsina&quot;</td><td>&quot;Jibia&quot;</td><td>&quot;Jibia (CBM)&quot;</td><td>13.08</td><td>7.24</td><td>&quot;cereals and tu…</td><td>&quot;Millet&quot;</td><td>&quot;KG&quot;</td><td>&quot;actual&quot;</td><td>&quot;Wholesale&quot;</td><td>150.179993</td><td>1.3254</td></tr><tr><td>2002-01-15</td><td>&quot;Katsina&quot;</td><td>&quot;Jibia&quot;</td><td>&quot;Jibia (CBM)&quot;</td><td>13.08</td><td>7.24</td><td>&quot;cereals and tu…</td><td>&quot;Rice (imported…</td><td>&quot;KG&quot;</td><td>&quot;actual&quot;</td><td>&quot;Wholesale&quot;</td><td>358.700012</td><td>3.1656</td></tr><tr><td>2002-01-15</td><td>&quot;Katsina&quot;</td><td>&quot;Jibia&quot;</td><td>&quot;Jibia (CBM)&quot;</td><td>13.08</td><td>7.24</td><td>&quot;cereals and tu…</td><td>&quot;Sorghum&quot;</td><td>&quot;KG&quot;</td><td>&quot;actual&quot;</td><td>&quot;Wholesale&quot;</td><td>155.610001</td><td>1.3733</td></tr><tr><td>2002-01-15</td><td>&quot;Katsina&quot;</td><td>&quot;Jibia&quot;</td><td>&quot;Jibia (CBM)&quot;</td><td>13.08</td><td>7.24</td><td>&quot;pulses and nut…</td><td>&quot;Beans (niebe)&quot;</td><td>&quot;KG&quot;</td><td>&quot;actual&quot;</td><td>&quot;Wholesale&quot;</td><td>196.869995</td><td>1.7374</td></tr></tbody></table></div>"
      ],
      "text/plain": [
       "shape: (5, 13)\n",
       "┌────────────┬─────────┬────────┬─────────────┬───┬───────────┬───────────┬────────────┬──────────┐\n",
       "│ date       ┆ admin1  ┆ admin2 ┆ market      ┆ … ┆ priceflag ┆ pricetype ┆ ngnprice   ┆ usdprice │\n",
       "│ ---        ┆ ---     ┆ ---    ┆ ---         ┆   ┆ ---       ┆ ---       ┆ ---        ┆ ---      │\n",
       "│ date       ┆ cat     ┆ cat    ┆ cat         ┆   ┆ cat       ┆ cat       ┆ f32        ┆ f32      │\n",
       "╞════════════╪═════════╪════════╪═════════════╪═══╪═══════════╪═══════════╪════════════╪══════════╡\n",
       "│ 2002-01-15 ┆ Katsina ┆ Jibia  ┆ Jibia (CBM) ┆ … ┆ actual    ┆ Wholesale ┆ 175.919998 ┆ 1.5525   │\n",
       "│ 2002-01-15 ┆ Katsina ┆ Jibia  ┆ Jibia (CBM) ┆ … ┆ actual    ┆ Wholesale ┆ 150.179993 ┆ 1.3254   │\n",
       "│ 2002-01-15 ┆ Katsina ┆ Jibia  ┆ Jibia (CBM) ┆ … ┆ actual    ┆ Wholesale ┆ 358.700012 ┆ 3.1656   │\n",
       "│ 2002-01-15 ┆ Katsina ┆ Jibia  ┆ Jibia (CBM) ┆ … ┆ actual    ┆ Wholesale ┆ 155.610001 ┆ 1.3733   │\n",
       "│ 2002-01-15 ┆ Katsina ┆ Jibia  ┆ Jibia (CBM) ┆ … ┆ actual    ┆ Wholesale ┆ 196.869995 ┆ 1.7374   │\n",
       "└────────────┴─────────┴────────┴─────────────┴───┴───────────┴───────────┴────────────┴──────────┘"
      ]
     },
     "execution_count": 18,
     "metadata": {},
     "output_type": "execute_result"
    }
   ],
   "source": [
    "data.head(5)"
   ]
  },
  {
   "cell_type": "markdown",
   "metadata": {},
   "source": [
    "### Exporting processed dataset as both CSV and Parquet files"
   ]
  },
  {
   "cell_type": "code",
   "execution_count": 19,
   "metadata": {},
   "outputs": [],
   "source": [
    "data.write_csv('wfp_food_prices_processed.csv', date_format=\"%d-%m-%Y\")\n",
    "data.write_parquet('wfp_food_prices_processed.parquet')"
   ]
  },
  {
   "cell_type": "markdown",
   "metadata": {},
   "source": [
    "### Summary\n",
    "\n",
    "Overall, the raw dataset was in good condition already. So, not a lot of pre-processing was required. Some of the steps were:\n",
    "1. Checking for duplicated records and any null values - None were found\n",
    "2. Removed records where price was 0 or priceflag value was 'forecast' - Not really useful for machine learning/EDA\n",
    "3. Dropped currency column and included currency in the price column's name - Made sense and saved some memory as well"
   ]
  }
 ],
 "metadata": {
  "kernelspec": {
   "display_name": "venv",
   "language": "python",
   "name": "python3"
  },
  "language_info": {
   "codemirror_mode": {
    "name": "ipython",
    "version": 3
   },
   "file_extension": ".py",
   "mimetype": "text/x-python",
   "name": "python",
   "nbconvert_exporter": "python",
   "pygments_lexer": "ipython3",
   "version": "3.9.17"
  }
 },
 "nbformat": 4,
 "nbformat_minor": 2
}
